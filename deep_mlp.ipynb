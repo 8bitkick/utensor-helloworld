{
 "cells": [
  {
   "cell_type": "markdown",
   "metadata": {},
   "source": [
    "## Imports"
   ]
  },
  {
   "cell_type": "code",
   "execution_count": 1,
   "metadata": {},
   "outputs": [],
   "source": [
    "from utensor_cgen.api.export import tflm_keras_export"
   ]
  },
  {
   "cell_type": "code",
   "execution_count": 2,
   "metadata": {},
   "outputs": [],
   "source": [
    "from __future__ import absolute_import, division, print_function, unicode_literals\n",
    "\n",
    "import tensorflow as tf\n",
    "import numpy as np\n",
    "\n",
    "from tensorflow.keras.layers import Dense, Flatten, Conv2D, MaxPooling2D\n",
    "from tensorflow.keras import Model\n",
    "\n",
    "tf.keras.backend.clear_session()"
   ]
  },
  {
   "cell_type": "markdown",
   "metadata": {},
   "source": [
    "## Load and prepare the [MNIST dataset](http://yann.lecun.com/exdb/mnist/)\n",
    "\n",
    "[tf.keras.datasets.mnist](https://www.tensorflow.org/api_docs/python/tf/keras/datasets/mnist/load_data) returns: ***Tuple of Numpy arrays: (x_train, y_train), (x_test, y_test).***"
   ]
  },
  {
   "cell_type": "code",
   "execution_count": 3,
   "metadata": {},
   "outputs": [],
   "source": [
    "mnist = tf.keras.datasets.mnist\n",
    "\n",
    "(x_train, y_train), (x_test, y_test) = mnist.load_data()\n",
    "x_train, x_test = x_train / 255.0, x_test / 255.0\n",
    "\n",
    "# Add a channels dimension\n",
    "x_train = x_train[..., tf.newaxis]\n",
    "x_test = x_test[..., tf.newaxis]"
   ]
  },
  {
   "cell_type": "markdown",
   "metadata": {},
   "source": [
    "Use tf.data to batch and shuffle the dataset.\n",
    "\n",
    "from_tensor_slices"
   ]
  },
  {
   "cell_type": "code",
   "execution_count": 4,
   "metadata": {},
   "outputs": [],
   "source": [
    "train_ds = tf.data.Dataset.from_tensor_slices(\n",
    "    (x_train, y_train)).shuffle(10000).batch(32)\n",
    "\n",
    "test_ds = tf.data.Dataset.from_tensor_slices((x_test, y_test)).batch(32)"
   ]
  },
  {
   "cell_type": "markdown",
   "metadata": {},
   "source": [
    "## Defining the Model"
   ]
  },
  {
   "cell_type": "code",
   "execution_count": 5,
   "metadata": {},
   "outputs": [],
   "source": [
    "class MyModel(Model):\n",
    "  def __init__(self):\n",
    "    super(MyModel, self).__init__()\n",
    "    self.conv1 = Conv2D(8, 3, activation='relu')\n",
    "    self.pool = MaxPooling2D()\n",
    "    self.flatten = Flatten()\n",
    "    self.d1 = Dense(16, activation='relu')\n",
    "    self.d2 = Dense(10)\n",
    "\n",
    "  def call(self, x):\n",
    "    x0 = self.pool(x)\n",
    "    x1 = self.conv1(x0)\n",
    "    x2 = self.pool(x1)\n",
    "    x3 = self.flatten(x2)\n",
    "    x4 = self.d1(x3)\n",
    "    return self.d2(x4)\n",
    "\n",
    "model = MyModel()"
   ]
  },
  {
   "cell_type": "markdown",
   "metadata": {},
   "source": [
    "Choose an optimizer and loss function for training:"
   ]
  },
  {
   "cell_type": "code",
   "execution_count": 6,
   "metadata": {},
   "outputs": [
    {
     "name": "stdout",
     "output_type": "stream",
     "text": [
      "Model: \"my_model\"\n",
      "_________________________________________________________________\n",
      "Layer (type)                 Output Shape              Param #   \n",
      "=================================================================\n",
      "conv2d (Conv2D)              (None, 12, 12, 8)         80        \n",
      "_________________________________________________________________\n",
      "max_pooling2d (MaxPooling2D) multiple                  0         \n",
      "_________________________________________________________________\n",
      "flatten (Flatten)            (None, 288)               0         \n",
      "_________________________________________________________________\n",
      "dense (Dense)                (None, 16)                4624      \n",
      "_________________________________________________________________\n",
      "dense_1 (Dense)              (None, 10)                170       \n",
      "=================================================================\n",
      "Total params: 4,874\n",
      "Trainable params: 4,874\n",
      "Non-trainable params: 0\n",
      "_________________________________________________________________\n"
     ]
    }
   ],
   "source": [
    "# see\n",
    "# https://github.com/tensorflow/tensorflow/blob/e5bf8de410005de06a7ff5393fafdf832ef1d4ad/tensorflow/python/keras/utils/layer_utils.py#L224-L228\n",
    "# https://www.tensorflow.org/api_docs/python/tf/keras/layers/Layer\n",
    "def print_model_summary(model, input_shape):\n",
    "  input_shape_nobatch = input_shape[1:]\n",
    "  model.build(input_shape)\n",
    "  inputs = tf.keras.Input(shape=input_shape_nobatch)\n",
    "  \n",
    "  if not hasattr(model, 'call'):\n",
    "      raise AttributeError(\"User should define 'call' method in sub-class model!\")\n",
    "  \n",
    "  _ = model.call(inputs)\n",
    "  #model.layers[0].output_shape\n",
    "  #model.layers[0].count_params()\n",
    "  #\n",
    "  model.summary()\n",
    "\n",
    "print_model_summary(model, x_test.shape)"
   ]
  },
  {
   "cell_type": "code",
   "execution_count": 7,
   "metadata": {},
   "outputs": [],
   "source": [
    "loss_object = tf.keras.losses.SparseCategoricalCrossentropy(from_logits=True)\n",
    "\n",
    "optimizer = tf.keras.optimizers.Adam()"
   ]
  },
  {
   "cell_type": "code",
   "execution_count": 8,
   "metadata": {},
   "outputs": [],
   "source": [
    "train_loss = tf.keras.metrics.Mean(name='train_loss')\n",
    "train_accuracy = tf.keras.metrics.SparseCategoricalAccuracy(name='train_accuracy')\n",
    "\n",
    "test_loss = tf.keras.metrics.Mean(name='test_loss')\n",
    "test_accuracy = tf.keras.metrics.SparseCategoricalAccuracy(name='test_accuracy')"
   ]
  },
  {
   "cell_type": "code",
   "execution_count": 9,
   "metadata": {},
   "outputs": [],
   "source": [
    "@tf.function\n",
    "def train_step(images, labels):\n",
    "  with tf.GradientTape() as tape:\n",
    "    # training=True is only needed if there are layers with different\n",
    "    # behavior during training versus inference (e.g. Dropout).\n",
    "    predictions = model(images, training=True)\n",
    "    loss = loss_object(labels, predictions)\n",
    "  gradients = tape.gradient(loss, model.trainable_variables)\n",
    "  optimizer.apply_gradients(zip(gradients, model.trainable_variables))\n",
    "\n",
    "  train_loss(loss)\n",
    "  train_accuracy(labels, predictions)"
   ]
  },
  {
   "cell_type": "markdown",
   "metadata": {},
   "source": [
    "Test the model:"
   ]
  },
  {
   "cell_type": "code",
   "execution_count": 10,
   "metadata": {},
   "outputs": [],
   "source": [
    "@tf.function\n",
    "def test_step(images, labels):\n",
    "  # training=False is only needed if there are layers with different\n",
    "  # behavior during training versus inference (e.g. Dropout).\n",
    "  predictions = model(images, training=False)\n",
    "  t_loss = loss_object(labels, predictions)\n",
    "\n",
    "  test_loss(t_loss)\n",
    "  test_accuracy(labels, predictions)"
   ]
  },
  {
   "cell_type": "markdown",
   "metadata": {},
   "source": [
    "## Training step"
   ]
  },
  {
   "cell_type": "code",
   "execution_count": 11,
   "metadata": {},
   "outputs": [
    {
     "name": "stdout",
     "output_type": "stream",
     "text": [
      "WARNING:tensorflow:Layer my_model is casting an input tensor from dtype float64 to the layer's dtype of float32, which is new behavior in TensorFlow 2.  The layer has dtype float32 because it's dtype defaults to floatx.\n",
      "\n",
      "If you intended to run this layer in float32, you can safely ignore this warning. If in doubt, this warning is likely only an issue if you are porting a TensorFlow 1.X model to TensorFlow 2.\n",
      "\n",
      "To change all layers to have dtype float64 by default, call `tf.keras.backend.set_floatx('float64')`. To change just this layer, pass dtype='float64' to the layer constructor. If you are the author of this layer, you can disable autocasting by passing autocast=False to the base Layer constructor.\n",
      "\n",
      "Epoch 1, Loss: 0.459749698638916, Accuracy: 86.40333557128906, Test Loss: 0.18603216111660004, Test Accuracy: 94.27000427246094\n",
      "Epoch 2, Loss: 0.1707976907491684, Accuracy: 94.72833251953125, Test Loss: 0.13616280257701874, Test Accuracy: 95.6300048828125\n",
      "Epoch 3, Loss: 0.1336827278137207, Accuracy: 95.79166412353516, Test Loss: 0.10996600985527039, Test Accuracy: 96.49000549316406\n",
      "Epoch 4, Loss: 0.11653120815753937, Accuracy: 96.35499572753906, Test Loss: 0.10350492596626282, Test Accuracy: 96.62000274658203\n",
      "Epoch 5, Loss: 0.10531149804592133, Accuracy: 96.70333099365234, Test Loss: 0.10187528282403946, Test Accuracy: 96.73999786376953\n",
      "Epoch 6, Loss: 0.09685180336236954, Accuracy: 96.93499755859375, Test Loss: 0.09011947363615036, Test Accuracy: 97.01000213623047\n",
      "Epoch 7, Loss: 0.0905412808060646, Accuracy: 97.13333129882812, Test Loss: 0.08793002367019653, Test Accuracy: 97.1199951171875\n",
      "Epoch 8, Loss: 0.08524569869041443, Accuracy: 97.28500366210938, Test Loss: 0.08913028240203857, Test Accuracy: 97.18000030517578\n",
      "Epoch 9, Loss: 0.08156154304742813, Accuracy: 97.44166564941406, Test Loss: 0.08352784067392349, Test Accuracy: 97.25\n",
      "Epoch 10, Loss: 0.07771238684654236, Accuracy: 97.53333282470703, Test Loss: 0.08216559886932373, Test Accuracy: 97.44999694824219\n",
      "Epoch 11, Loss: 0.0751059353351593, Accuracy: 97.60333251953125, Test Loss: 0.08990491926670074, Test Accuracy: 97.2699966430664\n",
      "Epoch 12, Loss: 0.07191751897335052, Accuracy: 97.74833679199219, Test Loss: 0.09059502929449081, Test Accuracy: 97.05999755859375\n",
      "Epoch 13, Loss: 0.07116899639368057, Accuracy: 97.7316665649414, Test Loss: 0.08331802487373352, Test Accuracy: 97.39999389648438\n",
      "Epoch 14, Loss: 0.06861171871423721, Accuracy: 97.83499908447266, Test Loss: 0.08315104991197586, Test Accuracy: 97.45999908447266\n",
      "Epoch 15, Loss: 0.06735269725322723, Accuracy: 97.87333679199219, Test Loss: 0.08755753189325333, Test Accuracy: 97.13999938964844\n"
     ]
    }
   ],
   "source": [
    "EPOCHS = 15\n",
    "\n",
    "for epoch in range(EPOCHS):\n",
    "  # Reset the metrics at the start of the next epoch\n",
    "  train_loss.reset_states()\n",
    "  train_accuracy.reset_states()\n",
    "  test_loss.reset_states()\n",
    "  test_accuracy.reset_states()\n",
    "\n",
    "  for images, labels in train_ds:\n",
    "    train_step(images, labels)\n",
    "\n",
    "  for test_images, test_labels in test_ds:\n",
    "    test_step(test_images, test_labels)\n",
    "\n",
    "  template = 'Epoch {}, Loss: {}, Accuracy: {}, Test Loss: {}, Test Accuracy: {}'\n",
    "  print(template.format(epoch+1,\n",
    "                        train_loss.result(),\n",
    "                        train_accuracy.result()*100,\n",
    "                        test_loss.result(),\n",
    "                        test_accuracy.result()*100))"
   ]
  },
  {
   "cell_type": "markdown",
   "metadata": {},
   "source": [
    "## Testing the Model"
   ]
  },
  {
   "cell_type": "code",
   "execution_count": 12,
   "metadata": {},
   "outputs": [
    {
     "name": "stdout",
     "output_type": "stream",
     "text": [
      "label:  tf.Tensor(7, shape=(), dtype=uint8)\n",
      "pred:   tf.Tensor(7, shape=(), dtype=int64)\n"
     ]
    }
   ],
   "source": [
    "test_image, test_label = next(test_ds.__iter__())\n",
    "test_image = tf.slice(test_image, [0,0,0,0], [1,-1,-1,-1])\n",
    "prediction = model(test_image, training=False)\n",
    "print(\"label: \", test_label[0])\n",
    "print(\"pred:  \", tf.math.argmax(prediction[0]))"
   ]
  },
  {
   "cell_type": "code",
   "execution_count": 13,
   "metadata": {},
   "outputs": [
    {
     "name": "stdout",
     "output_type": "stream",
     "text": [
      "WARNING:tensorflow:From /Users/neiltan/.pyvenv/ut_dev/lib/python3.6/site-packages/tensorflow_core/python/ops/resource_variable_ops.py:1786: calling BaseResourceVariable.__init__ (from tensorflow.python.ops.resource_variable_ops) with constraint is deprecated and will be removed in a future version.\n",
      "Instructions for updating:\n",
      "If using Keras pass *_constraint arguments to layers.\n",
      "INFO:tensorflow:Assets written to: saved_model/test_model/assets\n"
     ]
    }
   ],
   "source": [
    "model.save('saved_model/test_model')"
   ]
  },
  {
   "cell_type": "markdown",
   "metadata": {},
   "source": [
    "## Exporting to uTensor"
   ]
  },
  {
   "cell_type": "markdown",
   "metadata": {},
   "source": [
    "A sample generator for the offline-quantizer to estimate the optimal quantization ranges for all activations."
   ]
  },
  {
   "cell_type": "code",
   "execution_count": 14,
   "metadata": {},
   "outputs": [],
   "source": [
    "# representative data function\n",
    "num_calibration_steps = 128\n",
    "calibration_dtype = tf.float32\n",
    "\n",
    "def representative_dataset_gen():\n",
    "    for _ in range(num_calibration_steps):\n",
    "        rand_idx = np.random.randint(0, x_test.shape[0]-1)\n",
    "        sample = x_test[rand_idx]\n",
    "        sample = sample[tf.newaxis, ...]\n",
    "        sample = tf.cast(sample, dtype=calibration_dtype)\n",
    "        yield [sample]"
   ]
  },
  {
   "cell_type": "markdown",
   "metadata": {},
   "source": [
    "One-liner uTensor export API"
   ]
  },
  {
   "cell_type": "code",
   "execution_count": 15,
   "metadata": {},
   "outputs": [
    {
     "name": "stdout",
     "output_type": "stream",
     "text": [
      "[WARNING base.py __attrs_post_init__ @ 300] cannot convert new_shape to generic value: [1, 288](<class 'list'>)\n",
      "[WARNING quantize.py <module> @ 12] trying to import deprecated quantization transformer\n",
      "[INFO transformer.py transform @ 23] Transforming graph: my_model\n",
      "[INFO transformer.py transform @ 24] Transform pipeline: dropout(name_pattern=r'(dropout[_\\w\\d]*)/.*') -> linear_reorder -> inline -> biasAdd -> remove_id_op -> fake_gather_v2 -> refcnt\n",
      "[WARNING base.py __attrs_post_init__ @ 300] cannot convert new_shape to generic value: [1, 288](<class 'list'>)\n",
      "[WARNING base.py __attrs_post_init__ @ 300] cannot convert new_shape to generic value: [1, 288](<class 'list'>)\n",
      "[WARNING base.py __attrs_post_init__ @ 300] cannot convert new_shape to generic value: [1, 288](<class 'list'>)\n",
      "[WARNING base.py __attrs_post_init__ @ 300] cannot convert new_shape to generic value: [1, 288](<class 'list'>)\n",
      "[WARNING ns_transformer.py transform @ 243] enabling fake_gather_v2 will force replacing GatherV2 with Gather\n",
      "[WARNING base.py __attrs_post_init__ @ 300] cannot convert new_shape to generic value: [1, 288](<class 'list'>)\n",
      "[WARNING base.py __attrs_post_init__ @ 300] cannot convert new_shape to generic value: [1, 288](<class 'list'>)\n",
      "[INFO transformer.py transform @ 31] Graph transormation done\n",
      "[INFO generic_graph_lower.py apply @ 56] topo ordered tensor life span analysis done\n",
      "[INFO utils.py wrapped @ 469] collapsed time of calling apply: 0.0022 seconds\n",
      "[INFO generic_graph_lower.py _solve_space_alloc @ 204] optimal tensor allocation plan solved, total memory required: 1440 bytes\n",
      "[INFO generic_graph_lower.py _solve_space_alloc @ 205] number of tensors allocated: 8\n",
      "[INFO utils.py wrapped @ 469] collapsed time of calling _solve_space_alloc: 0.0154 seconds\n",
      "[INFO _code_generator.py _time_slot_generate_files @ 206] model parameters header file generated: constants/my_model/params_my_model.hpp\n",
      "[INFO _code_generator.py _time_slot_generate_files @ 219] model header file generated: models/my_model/my_model.hpp\n",
      "[INFO _code_generator.py _time_slot_generate_files @ 226] model cpp file generated: models/my_model/my_model.cpp\n"
     ]
    }
   ],
   "source": [
    "tflm_keras_export(\n",
    "    'saved_model/test_model',\n",
    "    representive_dataset=representative_dataset_gen,\n",
    "    model_name='my_model',\n",
    "    target='utensor',\n",
    ")"
   ]
  },
  {
   "cell_type": "code",
   "execution_count": 16,
   "metadata": {},
   "outputs": [
    {
     "name": "stdout",
     "output_type": "stream",
     "text": [
      "/Users/neiltan/code/ut/utensor-mnist-demo/tensorflow-models\r\n"
     ]
    }
   ],
   "source": [
    "!pwd"
   ]
  },
  {
   "cell_type": "code",
   "execution_count": null,
   "metadata": {},
   "outputs": [],
   "source": []
  }
 ],
 "metadata": {
  "kernelspec": {
   "display_name": "Python 3.6.8 64-bit ('ut_dev': venv)",
   "language": "python",
   "name": "python36864bitutdevvenved5806a32bf2487cbd387c7904f1722e"
  },
  "language_info": {
   "codemirror_mode": {
    "name": "ipython",
    "version": 3
   },
   "file_extension": ".py",
   "mimetype": "text/x-python",
   "name": "python",
   "nbconvert_exporter": "python",
   "pygments_lexer": "ipython3",
   "version": "3.6.8"
  }
 },
 "nbformat": 4,
 "nbformat_minor": 2
}
